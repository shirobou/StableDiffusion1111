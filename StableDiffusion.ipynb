{
  "cells": [
    {
      "cell_type": "markdown",
      "metadata": {
        "id": "view-in-github",
        "colab_type": "text"
      },
      "source": [
        "<a href=\"https://colab.research.google.com/github/shirobou/StableDiffusion1111/blob/main/StableDiffusion.ipynb\" target=\"_parent\"><img src=\"https://colab.research.google.com/assets/colab-badge.svg\" alt=\"Open In Colab\"/></a>"
      ]
    },
    {
      "cell_type": "code",
      "source": [
        "#各種プログラムダウンロード\n",
        "!pip install -q https://github.com/camenduru/stable-diffusion-webui-colab/releases/download/0.0.15/xformers-0.0.15+e163309.d20230103-cp38-cp38-linux_x86_64.whl\n",
        "!pip install -q --pre triton\n",
        "!git clone https://github.com/camenduru/stable-diffusion-webui\n",
        "%cd /content/stable-diffusion-webui\n",
        "\n",
        "#huggingfaceのモデルファイルのURLを記入（参考URLを下のテキスト欄に記載、リンク切れ注意）\n",
        "!wget https://huggingface.co/andite/anything-v4.0/resolve/main/anything-v4.0-pruned.safetensors -O /content/stable-diffusion-webui/models/Stable-diffusion/anything-v4.0-pruned.safetensors\n",
        "!wget https://huggingface.co/andite/anything-v4.0/resolve/main/anything-v4.5-pruned.safetensors -O /content/stable-diffusion-webui/models/Stable-diffusion/anything-v4.5-pruned.safetensors\n",
        "!wget https://huggingface.co/andite/anything-v4.0/resolve/main/anything-v4.0.vae.pt -O /content/stable-diffusion-webui/models/Stable-diffusion/anything-v4.0.vae.pt\n",
        "\n",
        "#stable-diffusionを実行\n",
        "!python launch.py --share --xformers"
      ],
      "metadata": {
        "colab": {
          "base_uri": "https://localhost:8080/"
        },
        "id": "g0q_qDwDYkwL",
        "outputId": "9e0f4785-9606-454e-c861-854a1c8dad97"
      },
      "execution_count": null,
      "outputs": [
        {
          "output_type": "stream",
          "name": "stdout",
          "text": [
            "\u001b[2K     \u001b[90m━━━━━━━━━━━━━━━━━━━━━━━━━━━━━━━━━━━━━━━━\u001b[0m \u001b[32m91.0/91.0 MB\u001b[0m \u001b[31m10.2 MB/s\u001b[0m eta \u001b[36m0:00:00\u001b[0m\n",
            "\u001b[?25hfatal: destination path 'stable-diffusion-webui' already exists and is not an empty directory.\n",
            "/content/stable-diffusion-webui\n",
            "--2023-01-24 03:39:01--  https://huggingface.co/Linaqruf/anything-v3.0/resolve/main/Anything-V3.0-pruned-fp32.safetensors\n",
            "Resolving huggingface.co (huggingface.co)... 3.231.67.228, 54.235.118.239, 2600:1f18:147f:e850:e203:c458:10cd:fc3c, ...\n",
            "Connecting to huggingface.co (huggingface.co)|3.231.67.228|:443... connected.\n",
            "HTTP request sent, awaiting response... 401 Unauthorized\n",
            "\n",
            "Username/Password Authentication Failed.\n",
            "--2023-01-24 03:39:01--  https://huggingface.co/Linaqruf/anything-v3.0/resolve/main/Anything-V3.0.vae.pt\n",
            "Resolving huggingface.co (huggingface.co)... 3.231.67.228, 54.235.118.239, 2600:1f18:147f:e850:e203:c458:10cd:fc3c, ...\n",
            "Connecting to huggingface.co (huggingface.co)|3.231.67.228|:443... connected.\n",
            "HTTP request sent, awaiting response... 401 Unauthorized\n",
            "\n",
            "Username/Password Authentication Failed.\n",
            "Python 3.8.10 (default, Nov 14 2022, 12:59:47) \n",
            "[GCC 9.4.0]\n",
            "Commit hash: c98cb0f8ecc904666f47684e238dd022039ca16f\n",
            "Installing requirements for Web UI\n",
            "Launching Web UI with arguments: --share --xformers\n",
            "Traceback (most recent call last):\n",
            "  File \"launch.py\", line 317, in <module>\n",
            "    start()\n",
            "  File \"launch.py\", line 308, in start\n",
            "    import webui\n",
            "  File \"/content/stable-diffusion-webui/webui.py\", line 13, in <module>\n",
            "    from modules import extra_networks_hypernet, ui_extra_networks_hypernets, ui_extra_networks_textual_inversion\n",
            "  File \"/content/stable-diffusion-webui/modules/extra_networks_hypernet.py\", line 2, in <module>\n",
            "    from modules.hypernetworks import hypernetwork\n",
            "  File \"/content/stable-diffusion-webui/modules/hypernetworks/hypernetwork.py\", line 10, in <module>\n",
            "    import modules.textual_inversion.dataset\n",
            "  File \"/content/stable-diffusion-webui/modules/textual_inversion/dataset.py\", line 4, in <module>\n",
            "    import torch\n",
            "  File \"/usr/local/lib/python3.8/dist-packages/torch/__init__.py\", line 881, in <module>\n",
            "    from torch import onnx as onnx\n",
            "  File \"/usr/local/lib/python3.8/dist-packages/torch/onnx/__init__.py\", line 12, in <module>\n",
            "    from . import (  # usort:skip. Keep the order instead of sorting lexicographically\n",
            "  File \"/usr/local/lib/python3.8/dist-packages/torch/onnx/errors.py\", line 9, in <module>\n",
            "    from torch.onnx._internal import diagnostics\n",
            "  File \"/usr/local/lib/python3.8/dist-packages/torch/onnx/_internal/diagnostics/__init__.py\", line 1, in <module>\n",
            "    from ._diagnostic import (\n",
            "  File \"/usr/local/lib/python3.8/dist-packages/torch/onnx/_internal/diagnostics/_diagnostic.py\", line 7, in <module>\n",
            "    from torch.onnx._internal.diagnostics import _rules, infra\n",
            "  File \"/usr/local/lib/python3.8/dist-packages/torch/onnx/_internal/diagnostics/_rules.py\", line 12, in <module>\n",
            "    from torch.onnx._internal.diagnostics import infra\n",
            "  File \"/usr/local/lib/python3.8/dist-packages/torch/onnx/_internal/diagnostics/infra/__init__.py\", line 1, in <module>\n",
            "    from ._infra import (\n",
            "  File \"/usr/local/lib/python3.8/dist-packages/torch/onnx/_internal/diagnostics/infra/_infra.py\", line 9, in <module>\n",
            "    from torch.onnx._internal.diagnostics.infra import formatter, sarif\n",
            "  File \"/usr/local/lib/python3.8/dist-packages/torch/onnx/_internal/diagnostics/infra/formatter.py\", line 6, in <module>\n",
            "    from torch.onnx._internal.diagnostics.infra import sarif\n",
            "  File \"/usr/local/lib/python3.8/dist-packages/torch/onnx/_internal/diagnostics/infra/sarif/__init__.py\", line 75, in <module>\n",
            "    from torch.onnx._internal.diagnostics.infra.sarif._sarif_log import SarifLog\n",
            "  File \"/usr/local/lib/python3.8/dist-packages/torch/onnx/_internal/diagnostics/infra/sarif/_sarif_log.py\", line 19, in <module>\n",
            "    class SarifLog(object):\n",
            "  File \"/usr/lib/python3.8/dataclasses.py\", line 1019, in dataclass\n",
            "    return wrap(cls)\n",
            "  File \"/usr/lib/python3.8/dataclasses.py\", line 1011, in wrap\n",
            "    return _process_class(cls, init, repr, eq, order, unsafe_hash, frozen)\n",
            "  File \"/usr/lib/python3.8/dataclasses.py\", line 925, in _process_class\n",
            "    _init_fn(flds,\n",
            "  File \"/usr/lib/python3.8/dataclasses.py\", line 529, in _init_fn\n",
            "    return _create_fn('__init__',\n",
            "  File \"/usr/lib/python3.8/dataclasses.py\", line 398, in _create_fn\n",
            "    exec(txt, globals, ns)\n",
            "  File \"<string>\", line 1, in <module>\n",
            "KeyboardInterrupt\n",
            "^C\n"
          ]
        }
      ]
    },
    {
      "cell_type": "markdown",
      "source": [
        "【注意】データの更新等で接続できないときはURLを確認してください。\n",
        "\n",
        "〇Anything V3 \n",
        "* !wget https://huggingface.co/Linaqruf/anything-v3.0/resolve/main/Anything-V3.0-pruned-fp32.safetensors -O /content/stable-diffusion-webui/models/Anything-V3.0-pruned-fp32.safetensors\n",
        "* !wget https://huggingface.co/Linaqruf/anything-v3.0/resolve/main/Anything-V3.0.vae.pt -O /content/stable-diffusion-webui/models/Stable-diffusion/Anything-V3.0.vae.pt\n",
        "\n",
        "\n",
        "\n",
        "---\n",
        "\n",
        "\n",
        "〇Anything V3 - Better VAE  \n",
        "*   !wget https://huggingface.co/Linaqruf/anything-v3-better-vae/resolve/main/any-v3-fp32-better-vae.safetensors -O /content/stable-diffusion-webui/models/Stable-diffusion/any-v3-fp32-better-vae.safetensors\n",
        "---\n",
        "〇Anything V4 & Anything V4.5\n",
        "*   !wget https://huggingface.co/andite/anything-v4.0/resolve/main/anything-v4.0-pruned.safetensors -O /content/stable-diffusion-webui/models/Stable-diffusion/anything-v4.0-pruned.safetensors\n",
        "*   !wget https://huggingface.co/andite/anything-v4.0/resolve/main/anything-v4.5-pruned.safetensors -O /content/stable-diffusion-webui/models/Stable-diffusion/anything-v4.5-pruned.safetensors\n",
        "*   !wget https://huggingface.co/andite/anything-v4.0/resolve/main/anything-v4.0.vae.pt -O /content/stable-diffusion-webui/models/Stable-diffusion/anything-v4.0.vae.pt\n",
        "\n",
        "---\n",
        "\n",
        "〇Cool Japan Diffusion 2.1.1\n",
        "* !wget https://huggingface.co/aipicasso/cool-japan-diffusion-2-1-1/resolve/main/v2-1-1.safetensors -O /content/stable-diffusion-webui/models/Stable-diffusion/v2-1-1.safetensors\n",
        "* !wget https://huggingface.co/aipicasso/cool-japan-diffusion-2-1-1/raw/main/v2-1-1.yaml -O /content/stable-diffusion-webui/models/Stable-diffusion/v2-1-1.yaml\n",
        "---\n",
        "\n",
        "\n",
        "〇Dreamlike Diffusion 1.0\n",
        "* !wget https://huggingface.co/dreamlike-art/dreamlike-diffusion-1.0/resolve/main/dreamlike-diffusion-1.0.ckpt -O /content/stable-diffusion-webui/models/Stable-diffusion/dreamlike-diffusion-1.0.ckpt\n",
        "---\n",
        "〇Eimis Anime Diffusion_1.0v\n",
        "* !wget https://huggingface.co/eimiss/EimisAnimeDiffusion_1.0v/resolve/main/EimisAnimeDiffusion_1-0v.ckpt -O /content/stable-diffusion-webui/models/Stable-diffusion/EimisAnimeDiffusion_1-0v.ckpt\n",
        "\n",
        "〇Openjourney\n",
        "* !wget https://huggingface.co/prompthero/openjourney/resolve/main/mdjrny-v4.safetensors -O /content/stable-diffusion-webui/models/Stable-diffusion/mdjrny-v4.safetensors\n",
        "\n",
        "\n",
        "---\n",
        "〇Plat Diffusion v1.3.0\n",
        "* !wget https://huggingface.co/p1atdev/pd-archive/resolve/main/plat-v1-3-0.safetensors -O /content/stable-diffusion-webui/models/Stable-diffusion/plat-v1-3-0.safetensors\n",
        "* !wget https://huggingface.co/hakurei/waifu-diffusion-v1-4/resolve/main/vae/kl-f8-anime2.ckpt -O /content/stable-diffusion-webui/models/Stable-diffusion/plat-v1-3-0.vae.pt\n",
        "* !wget https://huggingface.co/p1atdev/pd-archive/raw/main/plat-v1-3-0.yaml -O /content/stable-diffusion-webui/models/Stable-diffusion/plat-v1-3-0.yaml\n",
        "---\n",
        "\n",
        "〇Stable Diffusion v2.1\n",
        "\n",
        "*   !wget https://huggingface.co/stabilityai/stable-diffusion-2-1/resolve/main/v2-1_768-ema-pruned.ckpt -O /content/stable-diffusion-webui/models/Stable-diffusion/v2-1_768-ema-pruned.ckpt\n",
        "*   !wget https://raw.githubusercontent.com/Stability-AI/stablediffusion/main/configs/stable-diffusion/v2-inference-v.yaml -O /content/stable-diffusion-webui/models/Stable-diffusion/v2-1_768-ema-pruned.yaml\n",
        "---\n",
        "〇Waifu Diffusion v1.4 Epoch 2\n",
        "*   !wget https://huggingface.co/hakurei/waifu-diffusion-v1-4/resolve/main/wd-1-4-anime_e2.ckpt -O /content/stable-diffusion-webui/models/Stable-diffusion/wd-1-4-anime_e2.ckpt\n",
        "*   !wget https://huggingface.co/hakurei/waifu-diffusion-v1-4/raw/main/wd-1-4-anime_e1.yaml -O /content/stable-diffusion-webui/models/Stable-diffusion/wd-1-4-anime_e2.yaml\n",
        "---\n",
        "〇8528 Diffusion Final\n",
        "* !wget https://huggingface.co/852wa/8528-diffusion/resolve/main/8528d-final.ckpt -O /content/stable-diffusion-webui/models/Stable-diffusion/8528d-final.ckpt\n"
      ],
      "metadata": {
        "id": "44oZs_BPkSEK"
      }
    }
  ],
  "metadata": {
    "accelerator": "GPU",
    "colab": {
      "provenance": [],
      "authorship_tag": "ABX9TyM8+OAQ22hYyfgPxQYOhX1A",
      "include_colab_link": true
    },
    "gpuClass": "standard",
    "kernelspec": {
      "display_name": "Python 3",
      "name": "python3"
    },
    "language_info": {
      "name": "python"
    }
  },
  "nbformat": 4,
  "nbformat_minor": 0
}